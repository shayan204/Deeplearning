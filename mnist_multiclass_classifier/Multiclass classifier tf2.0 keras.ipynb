{
 "cells": [
  {
   "cell_type": "code",
   "execution_count": 1,
   "metadata": {},
   "outputs": [],
   "source": [
    "# Importing the required libararies\n",
    "\n",
    "import csv\n",
    "import numpy as np\n",
    "import tensorflow as tf\n",
    "from tensorflow.keras.preprocessing.image import ImageDataGenerator\n",
    "import os\n",
    "from tensorflow.compat.v1 import InteractiveSession\n",
    "config = tf.compat.v1.ConfigProto()\n",
    "config.gpu_options.allow_growth = True\n",
    "session = InteractiveSession(config=config)"
   ]
  },
  {
   "cell_type": "code",
   "execution_count": 2,
   "metadata": {},
   "outputs": [
    {
     "name": "stdout",
     "output_type": "stream",
     "text": [
      "/tf/Deeplearning/MNIST multiclass classifier/mnist_train.csv\n",
      "(60000, 28, 28)\n",
      "(60000,)\n",
      "(10000, 28, 28)\n",
      "(60000,)\n"
     ]
    }
   ],
   "source": [
    "# function to read a csv data\n",
    "\n",
    "def get_data(filename):\n",
    "    \n",
    "    ndata = np.loadtxt(filename, delimiter = ',')\n",
    "\n",
    "    labels = ndata[:,0].astype(int)\n",
    "    images = ndata[:,1:].astype(float).reshape((ndata.shape[0],28,28))\n",
    "    ndata = None\n",
    "    return images, labels\n",
    "\n",
    "\n",
    "trainfile = f\"{os.getcwd()}/mnist_train.csv\"\n",
    "testfile = f\"{os.getcwd()}/mnist_test.csv\"\n",
    "\n",
    "print(trainfile)\n",
    "\n",
    "training_images, training_labels = get_data(trainfile)\n",
    "testing_images, testing_labels = get_data(testfile)\n",
    "\n",
    "print(training_images.shape)\n",
    "print(training_labels.shape)\n",
    "print(testing_images.shape)\n",
    "print(training_labels.shape)"
   ]
  },
  {
   "cell_type": "code",
   "execution_count": 3,
   "metadata": {},
   "outputs": [],
   "source": [
    "#expand dims for tf image tensors\n",
    "\n",
    "training_images = np.expand_dims(training_images, axis = -1)\n",
    "testing_images = np.expand_dims(testing_images, axis = -1)\n",
    "testing_images = (testing_images/255.0).astype(float)\n",
    "training_images = (training_images/255.0).astype(float)\n",
    "\n",
    "\n"
   ]
  },
  {
   "cell_type": "code",
   "execution_count": 4,
   "metadata": {},
   "outputs": [],
   "source": [
    "#define a Model\n",
    "\n",
    "model = tf.keras.models.Sequential([\n",
    "    tf.keras.layers.Conv2D(64,(3,3), activation='relu', input_shape=(28,28,1)),\n",
    "    tf.keras.layers.MaxPool2D(2,2),\n",
    "    tf.keras.layers.Conv2D(128,(3,3), activation='relu'),\n",
    "    tf.keras.layers.MaxPool2D(2,2),\n",
    "    tf.keras.layers.Flatten(),\n",
    "    tf.keras.layers.Dense(512, activation='relu'),\n",
    "    tf.keras.layers.Dense(10, activation='softmax')])\n",
    "\n",
    "model.compile(loss = 'sparse_categorical_crossentropy', optimizer='adam', metrics=['accuracy'])\n",
    "\n",
    "\n",
    "\n"
   ]
  },
  {
   "cell_type": "code",
   "execution_count": 5,
   "metadata": {},
   "outputs": [
    {
     "name": "stdout",
     "output_type": "stream",
     "text": [
      "Train on 54000 samples, validate on 6000 samples\n",
      "Epoch 1/3\n",
      "54000/54000 [==============================] - 6s 103us/sample - loss: 0.1094 - accuracy: 0.9667 - val_loss: 0.0395 - val_accuracy: 0.9887\n",
      "Epoch 2/3\n",
      "54000/54000 [==============================] - 4s 78us/sample - loss: 0.0381 - accuracy: 0.9879 - val_loss: 0.0392 - val_accuracy: 0.9895\n",
      "Epoch 3/3\n",
      "54000/54000 [==============================] - 4s 79us/sample - loss: 0.0238 - accuracy: 0.9925 - val_loss: 0.0373 - val_accuracy: 0.9895\n"
     ]
    }
   ],
   "source": [
    "r = model.fit(training_images, training_labels, validation_split=0.1, epochs = 3)"
   ]
  },
  {
   "cell_type": "code",
   "execution_count": 6,
   "metadata": {},
   "outputs": [
    {
     "name": "stdout",
     "output_type": "stream",
     "text": [
      "10000/10000 [==============================] - 0s 42us/sample - loss: 0.0290 - accuracy: 0.9899\n"
     ]
    },
    {
     "data": {
      "text/plain": [
       "[0.02899866473756847, 0.9899]"
      ]
     },
     "execution_count": 6,
     "metadata": {},
     "output_type": "execute_result"
    }
   ],
   "source": [
    "model.evaluate(testing_images, testing_labels)"
   ]
  },
  {
   "cell_type": "code",
   "execution_count": 7,
   "metadata": {},
   "outputs": [
    {
     "data": {
      "image/png": "[encoded data removed]",
      "text/plain": [
       "<Figure size 432x288 with 1 Axes>"
      ]
     },
     "metadata": {
      "needs_background": "light"
     },
     "output_type": "display_data"
    },
    {
     "data": {
      "image/png": "[encoded data removed]",
      "text/plain": [
       "<Figure size 432x288 with 1 Axes>"
      ]
     },
     "metadata": {
      "needs_background": "light"
     },
     "output_type": "display_data"
    }
   ],
   "source": [
    "%matplotlib inline\n",
    "import matplotlib.pyplot as plt\n",
    "\n",
    "acc = r.history['accuracy']\n",
    "loss = r.history['loss']\n",
    "val_acc = r.history['val_accuracy']\n",
    "val_loss = r.history['val_loss']\n",
    "\n",
    "epochs = range(len(acc))\n",
    "\n",
    "plt.plot(epochs, acc, 'r', label='Training accuracy')\n",
    "plt.plot(epochs, val_acc, 'b', label='Validation accuracy')\n",
    "plt.title('Training and validation accuracy')\n",
    "plt.legend()\n",
    "plt.figure()\n",
    "\n",
    "plt.plot(epochs, loss, 'r', label='Training Loss')\n",
    "plt.plot(epochs, val_loss, 'b', label='Validation Loss')\n",
    "plt.title('Training and validation loss')\n",
    "plt.legend()\n",
    "\n",
    "plt.show()"
   ]
  },
  {
   "cell_type": "code",
   "execution_count": null,
   "metadata": {},
   "outputs": [],
   "source": []
  }
 ],
 "metadata": {
  "kernelspec": {
   "display_name": "Python 3",
   "language": "python",
   "name": "python3"
  },
  "language_info": {
   "codemirror_mode": {
    "name": "ipython",
    "version": 3
   },
   "file_extension": ".py",
   "mimetype": "text/x-python",
   "name": "python",
   "nbconvert_exporter": "python",
   "pygments_lexer": "ipython3",
   "version": "3.6.9"
  }
 },
 "nbformat": 4,
 "nbformat_minor": 4
}
